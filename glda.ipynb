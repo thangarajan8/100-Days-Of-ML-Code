{
  "nbformat": 4,
  "nbformat_minor": 0,
  "metadata": {
    "colab": {
      "name": "glda.ipynb",
      "provenance": [],
      "collapsed_sections": [],
      "authorship_tag": "ABX9TyMex7uGK9E2h2Ifhv+3DUBl",
      "include_colab_link": true
    },
    "kernelspec": {
      "name": "python3",
      "display_name": "Python 3"
    }
  },
  "cells": [
    {
      "cell_type": "markdown",
      "metadata": {
        "id": "view-in-github",
        "colab_type": "text"
      },
      "source": [
        "<a href=\"https://colab.research.google.com/github/thangarajan8/100-Days-Of-ML-Code/blob/master/glda.ipynb\" target=\"_parent\"><img src=\"https://colab.research.google.com/assets/colab-badge.svg\" alt=\"Open In Colab\"/></a>"
      ]
    },
    {
      "cell_type": "code",
      "metadata": {
        "colab": {
          "base_uri": "https://localhost:8080/"
        },
        "id": "BRvZOvQeiAiN",
        "outputId": "255be483-711a-4d78-daa1-4ac0624a2c9c"
      },
      "source": [
        "from sklearn.datasets import fetch_20newsgroups\n",
        "\n",
        "newsgroups_train = fetch_20newsgroups(subset='train', shuffle = True)\n",
        "newsgroups_test = fetch_20newsgroups(subset='test', shuffle = True)"
      ],
      "execution_count": null,
      "outputs": [
        {
          "output_type": "stream",
          "text": [
            "Downloading 20news dataset. This may take a few minutes.\n",
            "Downloading dataset from https://ndownloader.figshare.com/files/5975967 (14 MB)\n"
          ],
          "name": "stderr"
        }
      ]
    },
    {
      "cell_type": "code",
      "metadata": {
        "colab": {
          "base_uri": "https://localhost:8080/"
        },
        "id": "UEN1gPkZiBTN",
        "outputId": "7856e8ae-4f1a-45b1-9e57-3d1033d9468a"
      },
      "source": [
        "len(set(newsgroups_test.target))\n",
        "print(newsgroups_train.filenames.shape, newsgroups_train.target.shape)"
      ],
      "execution_count": null,
      "outputs": [
        {
          "output_type": "stream",
          "text": [
            "(11314,) (11314,)\n"
          ],
          "name": "stdout"
        }
      ]
    },
    {
      "cell_type": "code",
      "metadata": {
        "id": "YHm5yhdZiEHs"
      },
      "source": [
        "import gensim\n",
        "from gensim.utils import simple_preprocess\n",
        "from gensim.parsing.preprocessing import STOPWORDS\n",
        "from nltk.stem import WordNetLemmatizer, SnowballStemmer\n",
        "from nltk.stem.porter import *\n",
        "import numpy as np"
      ],
      "execution_count": null,
      "outputs": []
    },
    {
      "cell_type": "code",
      "metadata": {
        "colab": {
          "base_uri": "https://localhost:8080/"
        },
        "id": "866fX-LliGaw",
        "outputId": "6317125b-1703-4c78-e228-12e4c8a2b76c"
      },
      "source": [
        "np.random.seed(400)\n",
        "import nltk\n",
        "nltk.download('wordnet')\n",
        "print(WordNetLemmatizer().lemmatize('went', pos = 'v')) # past tense to present tense\n",
        "print(WordNetLemmatizer().lemmatize('going', pos = 'v')) # present tense to present tense\n",
        "print(WordNetLemmatizer().lemmatize('gone', pos = 'v')) # past tense to present tense\n",
        "print(WordNetLemmatizer().lemmatize('goes', pos = 'v')) # present tense to present tense\n",
        "print(WordNetLemmatizer().lemmatize('go', pos = 'v')) # present tense to present tense\n",
        "\n",
        "import pandas as pd"
      ],
      "execution_count": null,
      "outputs": [
        {
          "output_type": "stream",
          "text": [
            "[nltk_data] Downloading package wordnet to /root/nltk_data...\n",
            "[nltk_data]   Unzipping corpora/wordnet.zip.\n",
            "go\n",
            "go\n",
            "go\n",
            "go\n",
            "go\n"
          ],
          "name": "stdout"
        }
      ]
    },
    {
      "cell_type": "code",
      "metadata": {
        "id": "ca91iB-biT7p"
      },
      "source": [
        "stemmer = SnowballStemmer(\"english\")\n",
        "original_words = [\"Today\", \"I\", \"will\", \"be\", \"giving\", \"a\", \"talk\", \"in\", \"the\", \"fifth\", \"elephant\", \"2019\", \"conference\"]\n",
        "singles = [stemmer.stem(plural) for plural in original_words]\n",
        "\n",
        "y = pd.DataFrame(data={'original word':original_words, 'stemmed':singles })"
      ],
      "execution_count": null,
      "outputs": []
    },
    {
      "cell_type": "code",
      "metadata": {
        "id": "6ibPAi6YiZr_"
      },
      "source": [
        "'''\n",
        "Write a function to perform the pre processing steps on the entire dataset\n",
        "'''\n",
        "def stemming_and_lemmatizing(text):\n",
        "    return stemmer.stem(WordNetLemmatizer().lemmatize(text, pos='v'))\n",
        "\n",
        "# Tokenize and lemmatize\n",
        "def preprocessing(text):\n",
        "    result=[]\n",
        "    for token in gensim.utils.simple_preprocess(text) :\n",
        "        if token not in gensim.parsing.preprocessing.STOPWORDS and len(token) > 3:\n",
        "            result.append(stemming_and_lemmatizing(token))\n",
        "            \n",
        "    return result"
      ],
      "execution_count": null,
      "outputs": []
    },
    {
      "cell_type": "code",
      "metadata": {
        "colab": {
          "base_uri": "https://localhost:8080/"
        },
        "id": "CAWdt2MqicCw",
        "outputId": "5c717859-679b-4ff2-eab8-be5137754c3d"
      },
      "source": [
        "'''\n",
        "Preview a document after preprocessing\n",
        "'''\n",
        "document_num = 50\n",
        "doc_sample = 'This disk has failed many times. I would like to get it replaced.'\n",
        "\n",
        "print(\"Original document: \")\n",
        "words = []\n",
        "for word in doc_sample.split(' '):\n",
        "    words.append(word)\n",
        "print(words)\n",
        "print(\"\\n\\nTokenized and lemmatized document: \")\n",
        "print(preprocessing(doc_sample))"
      ],
      "execution_count": null,
      "outputs": [
        {
          "output_type": "stream",
          "text": [
            "Original document: \n",
            "['This', 'disk', 'has', 'failed', 'many', 'times.', 'I', 'would', 'like', 'to', 'get', 'it', 'replaced.']\n",
            "\n",
            "\n",
            "Tokenized and lemmatized document: \n",
            "['disk', 'fail', 'time', 'like', 'replac']\n"
          ],
          "name": "stdout"
        }
      ]
    },
    {
      "cell_type": "code",
      "metadata": {
        "id": "PDy2kxRmiene"
      },
      "source": [
        "docs = []\n",
        "\n",
        "for doc in newsgroups_train.data:\n",
        "    docs.append(preprocessing(doc))"
      ],
      "execution_count": null,
      "outputs": []
    },
    {
      "cell_type": "code",
      "metadata": {
        "colab": {
          "base_uri": "https://localhost:8080/"
        },
        "id": "6BBY7dA1ijyi",
        "outputId": "d577bf40-233f-4003-b87f-bb34a3d50003"
      },
      "source": [
        "'''\n",
        "Preview 'docs' to see what all words are being captured\n",
        "'''\n",
        "print(docs[:2])"
      ],
      "execution_count": null,
      "outputs": [
        {
          "output_type": "stream",
          "text": [
            "[['lerxst', 'thing', 'subject', 'nntp', 'post', 'host', 'organ', 'univers', 'maryland', 'colleg', 'park', 'line', 'wonder', 'enlighten', 'door', 'sport', 'look', 'late', 'earli', 'call', 'bricklin', 'door', 'small', 'addit', 'bumper', 'separ', 'rest', 'bodi', 'know', 'tellm', 'model', 'engin', 'spec', 'year', 'product', 'histori', 'info', 'funki', 'look', 'mail', 'thank', 'bring', 'neighborhood', 'lerxst'], ['guykuo', 'carson', 'washington', 'subject', 'clock', 'poll', 'final', 'summari', 'final', 'clock', 'report', 'keyword', 'acceler', 'clock', 'upgrad', 'articl', 'shelley', 'qvfo', 'innc', 'organ', 'univers', 'washington', 'line', 'nntp', 'post', 'host', 'carson', 'washington', 'fair', 'number', 'brave', 'soul', 'upgrad', 'clock', 'oscil', 'share', 'experi', 'poll', 'send', 'brief', 'messag', 'detail', 'experi', 'procedur', 'speed', 'attain', 'rat', 'speed', 'card', 'adapt', 'heat', 'sink', 'hour', 'usag', 'floppi', 'disk', 'function', 'floppi', 'especi', 'request', 'summar', 'day', 'network', 'knowledg', 'base', 'clock', 'upgrad', 'haven', 'answer', 'poll', 'thank', 'guykuo', 'washington']]\n"
          ],
          "name": "stdout"
        }
      ]
    },
    {
      "cell_type": "code",
      "metadata": {
        "id": "Ux-HyK4Ailsy"
      },
      "source": [
        "'''\n",
        "capturing all the different words present in 'docs'\n",
        "'''\n",
        "all_word_corpus = []\n",
        "for doc in docs:\n",
        "    all_word_corpus += doc"
      ],
      "execution_count": null,
      "outputs": []
    },
    {
      "cell_type": "code",
      "metadata": {
        "id": "GR18Syz-itDs"
      },
      "source": [
        "doc_lengths = pd.Series([len(sent) for sent in docs])"
      ],
      "execution_count": null,
      "outputs": []
    },
    {
      "cell_type": "code",
      "metadata": {
        "colab": {
          "base_uri": "https://localhost:8080/"
        },
        "id": "f-QwqZJ8i2PM",
        "outputId": "533b616b-fd34-4fb9-9428-f7f6bc264332"
      },
      "source": [
        "doc_lengths.describe(percentiles=[x/10 for x in range(11)])"
      ],
      "execution_count": null,
      "outputs": [
        {
          "output_type": "execute_result",
          "data": {
            "text/plain": [
              "count    11314.000000\n",
              "mean       126.783896\n",
              "std        234.665599\n",
              "min          9.000000\n",
              "0%           9.000000\n",
              "10%         37.000000\n",
              "20%         48.000000\n",
              "30%         58.000000\n",
              "40%         69.000000\n",
              "50%         81.000000\n",
              "60%         94.000000\n",
              "70%        114.000000\n",
              "80%        144.000000\n",
              "90%        213.000000\n",
              "100%      5494.000000\n",
              "max       5494.000000\n",
              "dtype: float64"
            ]
          },
          "metadata": {
            "tags": []
          },
          "execution_count": 12
        }
      ]
    },
    {
      "cell_type": "code",
      "metadata": {
        "colab": {
          "base_uri": "https://localhost:8080/"
        },
        "id": "EPdaRu1Ni344",
        "outputId": "6c670357-3dfb-4eb1-f167-3ab27dc5ad3a"
      },
      "source": [
        "doc_lengths.describe(percentiles=[x/100 for x in range(0,10)])"
      ],
      "execution_count": null,
      "outputs": [
        {
          "output_type": "execute_result",
          "data": {
            "text/plain": [
              "count    11314.000000\n",
              "mean       126.783896\n",
              "std        234.665599\n",
              "min          9.000000\n",
              "0%           9.000000\n",
              "1%          20.000000\n",
              "2%          23.000000\n",
              "3%          27.000000\n",
              "4%          28.000000\n",
              "5%          30.000000\n",
              "6%          32.000000\n",
              "7%          33.000000\n",
              "8%          34.000000\n",
              "9%          36.000000\n",
              "50%         81.000000\n",
              "max       5494.000000\n",
              "dtype: float64"
            ]
          },
          "metadata": {
            "tags": []
          },
          "execution_count": 13
        }
      ]
    },
    {
      "cell_type": "code",
      "metadata": {
        "colab": {
          "base_uri": "https://localhost:8080/"
        },
        "id": "oyb-EqMEi6E5",
        "outputId": "700aea8b-88e2-4fc0-e699-cfd698f30bbe"
      },
      "source": [
        "doc_lengths.describe(percentiles=[x/100 for x in range(90,100)])\n"
      ],
      "execution_count": null,
      "outputs": [
        {
          "output_type": "execute_result",
          "data": {
            "text/plain": [
              "count    11314.000000\n",
              "mean       126.783896\n",
              "std        234.665599\n",
              "min          9.000000\n",
              "50%         81.000000\n",
              "90%        213.000000\n",
              "91%        224.000000\n",
              "92%        241.000000\n",
              "93%        262.090000\n",
              "94%        288.000000\n",
              "95%        319.000000\n",
              "96%        367.000000\n",
              "97%        426.610000\n",
              "98%        558.220000\n",
              "99%        885.000000\n",
              "max       5494.000000\n",
              "dtype: float64"
            ]
          },
          "metadata": {
            "tags": []
          },
          "execution_count": 14
        }
      ]
    },
    {
      "cell_type": "code",
      "metadata": {
        "id": "vTUj8SR9i_Mr"
      },
      "source": [
        "# chosing upper_bound = 300 and lower_bound = 30\n",
        "chosen_docs = []\n",
        "for doc in docs:\n",
        "    if len(doc) > 30 and len(doc) < 300:\n",
        "        chosen_docs.append(doc)"
      ],
      "execution_count": null,
      "outputs": []
    },
    {
      "cell_type": "code",
      "metadata": {
        "colab": {
          "base_uri": "https://localhost:8080/"
        },
        "id": "4HAXQcVPjBp3",
        "outputId": "552259ef-3850-4ffc-cdf2-6f665a206a36"
      },
      "source": [
        "print(len(docs), len(chosen_docs))"
      ],
      "execution_count": null,
      "outputs": [
        {
          "output_type": "stream",
          "text": [
            "11314 10063\n"
          ],
          "name": "stdout"
        }
      ]
    },
    {
      "cell_type": "code",
      "metadata": {
        "id": "cy_rIHvLjE8Y"
      },
      "source": [
        "docs = chosen_docs\n"
      ],
      "execution_count": null,
      "outputs": []
    },
    {
      "cell_type": "code",
      "metadata": {
        "id": "Mzd8tUTEjGbE"
      },
      "source": [
        "'''\n",
        "capturing all the different words present in 'docs'\n",
        "'''\n",
        "all_word_corpus = []\n",
        "for doc in docs:\n",
        "    all_word_corpus += doc"
      ],
      "execution_count": null,
      "outputs": []
    },
    {
      "cell_type": "code",
      "metadata": {
        "id": "ndidvNAZjJVW"
      },
      "source": [
        "from collections import Counter\n",
        "word_frequency_dict = Counter(all_word_corpus)"
      ],
      "execution_count": null,
      "outputs": []
    },
    {
      "cell_type": "code",
      "metadata": {
        "id": "ThMtbBuUjLQk"
      },
      "source": [
        "word2id = {}\n",
        "id2word = {}\n",
        "vocab = []\n",
        "currentWordId = 0"
      ],
      "execution_count": null,
      "outputs": []
    },
    {
      "cell_type": "code",
      "metadata": {
        "id": "_Kc8bC1tjNFF"
      },
      "source": [
        "for word, count in Counter(all_word_corpus).most_common():\n",
        "    word2id[word] = currentWordId\n",
        "    id2word[currentWordId] = word\n",
        "    currentWordId += 1\n",
        "    vocab.append(word)"
      ],
      "execution_count": null,
      "outputs": []
    },
    {
      "cell_type": "code",
      "metadata": {
        "colab": {
          "base_uri": "https://localhost:8080/"
        },
        "id": "3AlL8wMTjTei",
        "outputId": "13bb3b1f-1589-4809-d154-c0da16b08f36"
      },
      "source": [
        "len(docs), len(word2id), len(id2word)"
      ],
      "execution_count": null,
      "outputs": [
        {
          "output_type": "execute_result",
          "data": {
            "text/plain": [
              "(10063, 42185, 42185)"
            ]
          },
          "metadata": {
            "tags": []
          },
          "execution_count": 24
        }
      ]
    },
    {
      "cell_type": "code",
      "metadata": {
        "id": "mHJQAKahjU_W"
      },
      "source": [
        "final_docs = []\n",
        "\n",
        "for doc in docs:\n",
        "    currentDoc = []\n",
        "    for word in doc: \n",
        "        if word in word2id:\n",
        "            currentDoc.append(word2id[word])\n",
        "    final_docs.append(currentDoc)"
      ],
      "execution_count": null,
      "outputs": []
    },
    {
      "cell_type": "code",
      "metadata": {
        "id": "6f4h1QLYjWsV"
      },
      "source": [
        "docs = final_docs"
      ],
      "execution_count": null,
      "outputs": []
    },
    {
      "cell_type": "code",
      "metadata": {
        "id": "6bUKr84njX8_"
      },
      "source": [
        "X = np.zeros((len(docs), len(word2id)),dtype=int)"
      ],
      "execution_count": null,
      "outputs": []
    },
    {
      "cell_type": "code",
      "metadata": {
        "colab": {
          "base_uri": "https://localhost:8080/"
        },
        "id": "PIUAcwynjZ_e",
        "outputId": "a00a2534-b3b7-4b77-d9a6-0a04c798c356"
      },
      "source": [
        "X.shape"
      ],
      "execution_count": null,
      "outputs": [
        {
          "output_type": "execute_result",
          "data": {
            "text/plain": [
              "(10063, 42185)"
            ]
          },
          "metadata": {
            "tags": []
          },
          "execution_count": 28
        }
      ]
    },
    {
      "cell_type": "code",
      "metadata": {
        "id": "nr6qb14Xjb2u"
      },
      "source": [
        "for idx, doc in enumerate(docs):\n",
        "    for idy in doc:\n",
        "        X[idx,idy] += 1"
      ],
      "execution_count": null,
      "outputs": []
    },
    {
      "cell_type": "code",
      "metadata": {
        "colab": {
          "base_uri": "https://localhost:8080/"
        },
        "id": "71ARGl1Rjd1p",
        "outputId": "be7fef30-524d-450f-eef4-3754e0485460"
      },
      "source": [
        "# pip install guidedlda\n",
        "from guidedlda import GuidedLDA as lda"
      ],
      "execution_count": null,
      "outputs": [
        {
          "output_type": "stream",
          "text": [
            "Collecting guidedlda\n",
            "\u001b[?25l  Downloading https://files.pythonhosted.org/packages/f8/ee/6d6e2b3525388399e12a4482554c7529a5fcf5e99c50a60abaa02894b8bf/guidedlda-2.0.0.dev22.tar.gz (2.1MB)\n",
            "\u001b[K     |████████████████████████████████| 2.1MB 3.9MB/s \n",
            "\u001b[?25hRequirement already satisfied: numpy in /usr/local/lib/python3.6/dist-packages (from guidedlda) (1.18.5)\n",
            "Building wheels for collected packages: guidedlda\n",
            "  Building wheel for guidedlda (setup.py) ... \u001b[?25l\u001b[?25hdone\n",
            "  Created wheel for guidedlda: filename=guidedlda-2.0.0.dev22-cp36-cp36m-linux_x86_64.whl size=2479772 sha256=ff4272f3f916aba7019704791276df74883b94ad1b6ea95e7d322918d89774e6\n",
            "  Stored in directory: /root/.cache/pip/wheels/cf/cb/c4/95897cbe4e2e12bd01db3c5cb004c744d2cfd68ecc692ce39e\n",
            "Successfully built guidedlda\n",
            "Installing collected packages: guidedlda\n",
            "Successfully installed guidedlda-2.0.0.dev22\n"
          ],
          "name": "stdout"
        }
      ]
    },
    {
      "cell_type": "code",
      "metadata": {
        "colab": {
          "base_uri": "https://localhost:8080/"
        },
        "id": "Q_cdV5J-jf9t",
        "outputId": "122eef90-023a-4621-f95a-db7abbe55c09"
      },
      "source": [
        "model = lda(n_topics= 10, n_iter=1000, random_state=1, refresh=50)\n",
        "model.fit(X)\n",
        "\n",
        "topic_word = model.topic_word_\n",
        "n_top_words = 25\n",
        "for i, topic_dist in enumerate(topic_word):\n",
        "    topic_words = np.array(vocab)[np.argsort(topic_dist)][:-(n_top_words + 1):-1]\n",
        "    print(\"\\n\")\n",
        "    print('Topic {} : {}'.format(i, ', '.join(topic_words)))"
      ],
      "execution_count": null,
      "outputs": [
        {
          "output_type": "stream",
          "text": [
            "INFO:guidedlda:n_documents: 10063\n",
            "INFO:guidedlda:vocab_size: 42185\n",
            "INFO:guidedlda:n_words: 959761\n",
            "INFO:guidedlda:n_topics: 10\n",
            "INFO:guidedlda:n_iter: 1000\n",
            "INFO:guidedlda:<0> log likelihood: -11209661\n",
            "INFO:guidedlda:<50> log likelihood: -8363745\n",
            "INFO:guidedlda:<100> log likelihood: -8212734\n",
            "INFO:guidedlda:<150> log likelihood: -8152296\n",
            "INFO:guidedlda:<200> log likelihood: -8123989\n",
            "INFO:guidedlda:<250> log likelihood: -8107704\n",
            "INFO:guidedlda:<300> log likelihood: -8097444\n",
            "INFO:guidedlda:<350> log likelihood: -8092519\n",
            "INFO:guidedlda:<400> log likelihood: -8087836\n",
            "INFO:guidedlda:<450> log likelihood: -8084354\n",
            "INFO:guidedlda:<500> log likelihood: -8081570\n",
            "INFO:guidedlda:<550> log likelihood: -8077471\n",
            "INFO:guidedlda:<600> log likelihood: -8074195\n",
            "INFO:guidedlda:<650> log likelihood: -8072860\n",
            "INFO:guidedlda:<700> log likelihood: -8070212\n",
            "INFO:guidedlda:<750> log likelihood: -8069174\n",
            "INFO:guidedlda:<800> log likelihood: -8068229\n",
            "INFO:guidedlda:<850> log likelihood: -8066937\n",
            "INFO:guidedlda:<900> log likelihood: -8063527\n",
            "INFO:guidedlda:<950> log likelihood: -8064436\n",
            "INFO:guidedlda:<999> log likelihood: -8062917\n"
          ],
          "name": "stderr"
        },
        {
          "output_type": "stream",
          "text": [
            "\n",
            "\n",
            "Topic 0 : write, subject, christian, line, organ, peopl, think, know, believ, articl, say, jesus, post, like, moral, univers, thing, mean, come, time, exist, bibl, question, word, religion\n",
            "\n",
            "\n",
            "Topic 1 : line, window, subject, organ, write, post, problem, drive, file, univers, host, card, know, nntp, work, thank, like, articl, need, program, help, scsi, disk, driver, repli\n",
            "\n",
            "\n",
            "Topic 2 : line, subject, organ, articl, write, post, food, nntp, nasa, cramer, host, optilink, buffalo, know, univers, homosexu, harvard, studi, peopl, clayton, virginia, world, steve, dyer, event\n",
            "\n",
            "\n",
            "Topic 3 : line, subject, organ, post, space, nasa, write, host, univers, nntp, articl, sale, mail, like, distribut, access, year, work, know, interest, includ, sell, offer, toronto, henri\n",
            "\n",
            "\n",
            "Topic 4 : israel, isra, write, subject, articl, organ, line, armenian, arab, jew, peopl, post, turkish, say, state, think, kill, univers, american, polici, world, jewish, right, govern, armenia\n",
            "\n",
            "\n",
            "Topic 5 : chip, line, encrypt, clipper, organ, subject, write, secur, key, phone, post, govern, articl, know, escrow, public, netcom, like, nntp, host, good, algorithm, secret, inform, code\n",
            "\n",
            "\n",
            "Topic 6 : line, subject, organ, write, articl, post, bike, like, host, nntp, think, look, drive, univers, good, know, time, engin, go, car, distribut, thing, want, right, speed\n",
            "\n",
            "\n",
            "Topic 7 : write, peopl, line, articl, organ, subject, right, like, think, post, state, govern, know, go, univers, say, host, nntp, time, thing, good, want, clinton, case, year\n",
            "\n",
            "\n",
            "Topic 8 : line, organ, subject, write, articl, know, like, time, post, pitt, univers, bank, work, help, good, gordon, need, power, problem, think, scienc, host, repli, question, nntp\n",
            "\n",
            "\n",
            "Topic 9 : game, line, team, subject, organ, write, year, player, play, articl, post, univers, think, like, host, nntp, hockey, time, good, basebal, season, score, leagu, go, know\n"
          ],
          "name": "stdout"
        }
      ]
    },
    {
      "cell_type": "code",
      "metadata": {
        "id": "owZOd_DjjvsL"
      },
      "source": [
        "top_words = list(reversed(model.word_topic_.T[1].argsort()))"
      ],
      "execution_count": null,
      "outputs": []
    },
    {
      "cell_type": "code",
      "metadata": {
        "colab": {
          "base_uri": "https://localhost:8080/"
        },
        "id": "8xKYcq4nkDIV",
        "outputId": "a6a91023-6a6c-4e77-ceec-af40b5069b6a"
      },
      "source": [
        "for word in top_words[0:300]:\n",
        "    print(vocab[word], word_frequency_dict[vocab[word]])"
      ],
      "execution_count": null,
      "outputs": [
        {
          "output_type": "stream",
          "text": [
            "scsi 730\n",
            "printer 362\n",
            "simm 334\n",
            "font 327\n",
            "floppi 260\n",
            "motherboard 244\n",
            "quadra 209\n",
            "xterm 182\n",
            "centri 143\n",
            "bio 140\n",
            "icon 131\n",
            "vram 121\n",
            "eisa 117\n",
            "vesa 113\n",
            "colormap 112\n",
            "desktop 111\n",
            "nubus 100\n",
            "cursor 98\n",
            "menu 97\n",
            "svga 88\n",
            "dresden 86\n",
            "meg 85\n",
            "powerbook 82\n",
            "ethernet 82\n",
            "app 81\n",
            "xpert 77\n",
            "sparc 77\n",
            "cview 74\n",
            "deskjet 72\n",
            "toolkit 70\n",
            "download 70\n",
            "lciii 70\n",
            "bitmap 69\n",
            "cica 66\n",
            "xview 63\n",
            "openwindow 63\n",
            "iisi 63\n",
            "config 62\n",
            "sharewar 62\n",
            "dram 59\n",
            "adaptec 56\n",
            "speedstar 56\n",
            "esdi 55\n",
            "ctrl 55\n",
            "chipset 54\n",
            "borland 54\n",
            "quicktim 52\n",
            "enterpoop 51\n",
            "hade 51\n",
            "truetyp 50\n",
            "reboot 49\n",
            "midi 49\n",
            "maxtor 48\n",
            "uart 48\n",
            "coprocessor 47\n",
            "xputimag 45\n",
            "bubblejet 45\n",
            "grayscal 44\n",
            "workspac 43\n",
            "powerpc 41\n",
            "solari 40\n",
            "zeo 40\n",
            "seagat 39\n",
            "harddisk 39\n",
            "benchmark 38\n",
            "rainer 38\n",
            "gerard 38\n",
            "winbench 38\n",
            "msdos 37\n",
            "fractal 37\n",
            "raster 36\n",
            "fujitsu 35\n",
            "dcoleman 35\n",
            "winmark 34\n",
            "cdrom 34\n",
            "olwm 34\n",
            "irzr 34\n",
            "louray 34\n",
            "desonia 33\n",
            "syquest 33\n",
            "mcmaster 33\n",
            "tvtwm 33\n",
            "menus 32\n",
            "laptop 32\n",
            "diablo 32\n",
            "megabyt 31\n",
            "nanao 31\n",
            "init 31\n",
            "asynchron 30\n",
            "bmug 30\n",
            "jpeg 30\n",
            "slee 30\n",
            "laserwrit 30\n",
            "andre_beck 30\n",
            "autoexec 29\n",
            "eniac 29\n",
            "upload 29\n",
            "sunview 29\n",
            "bauer 29\n",
            "diskett 29\n",
            "laserjet 29\n",
            "wimsey 29\n",
            "csiro 28\n",
            "ntsc 28\n",
            "mpeg 28\n",
            "ebosco 28\n",
            "grebyn 27\n",
            "floptic 27\n",
            "farley 27\n",
            "stacker 27\n",
            "iivx 26\n",
            "keycod 26\n",
            "emac 26\n",
            "toner 26\n",
            "waikato 26\n",
            "xsizehint 26\n",
            "stuttgart 26\n",
            "raytrac 26\n",
            "chicogo 25\n",
            "blaster 25\n",
            "tseng 25\n",
            "guyd 25\n",
            "netwar 25\n",
            "sparcstat 25\n",
            "quickdraw 25\n",
            "ghostscript 24\n",
            "handshak 24\n",
            "coo 24\n",
            "reinstal 24\n",
            "photoshop 24\n",
            "openlook 24\n",
            "hemul 24\n",
            "hostnam 24\n",
            "workgroup 23\n",
            "coreldraw 23\n",
            "hercul 23\n",
            "goyal 23\n",
            "smartdrv 23\n",
            "panayiotaki 23\n",
            "wharton 22\n",
            "bgrubb 22\n",
            "dubinski 22\n",
            "rmit 22\n",
            "xsun 22\n",
            "eckton 22\n",
            "interleav 22\n",
            "mirski 22\n",
            "spline 22\n",
            "resiz 22\n",
            "nthu 22\n",
            "ximag 22\n",
            "brocku 21\n",
            "desqview 21\n",
            "dither 21\n",
            "gerhard 21\n",
            "keel 21\n",
            "logitech 21\n",
            "extro 21\n",
            "multisync 21\n",
            "scodal 21\n",
            "hannov 21\n",
            "dsto 21\n",
            "elin 21\n",
            "diff 20\n",
            "povray 20\n",
            "neosoft 20\n",
            "ntaib 20\n",
            "localtalk 20\n",
            "amsterdam 20\n",
            "jartsu 20\n",
            "monochrom 20\n",
            "workaround 20\n",
            "ultrix 20\n",
            "bade 19\n",
            "iici 19\n",
            "richk 19\n",
            "appletalk 19\n",
            "parcplac 19\n",
            "iifx 19\n",
            "firstclass 19\n",
            "corel 19\n",
            "gooch 19\n",
            "vpnet 19\n",
            "kayman 19\n",
            "acsc 19\n",
            "lanzo 19\n",
            "glang 19\n",
            "holonet 19\n",
            "xmosaic 19\n",
            "viamar 19\n",
            "vgalogo 19\n",
            "truecolor 19\n",
            "penev 18\n",
            "spartan 18\n",
            "alias 18\n",
            "procomm 18\n",
            "wyvern 18\n",
            "rnichol 18\n",
            "krehbiel 18\n",
            "debug 18\n",
            "qemm 18\n",
            "xtermin 18\n",
            "balog 18\n",
            "telix 18\n",
            "nodin 18\n",
            "hartmann 17\n",
            "devguid 17\n",
            "defrag 17\n",
            "behr 17\n",
            "decstat 17\n",
            "wallpap 17\n",
            "quarterdeck 17\n",
            "busmast 17\n",
            "cboesel 17\n",
            "boesel 17\n",
            "xdefault 17\n",
            "ilstu 16\n",
            "quicken 16\n",
            "zterm 16\n",
            "rtrace 16\n",
            "readm 16\n",
            "kmembri 16\n",
            "eosvcr 16\n",
            "lastdriv 16\n",
            "zenith 16\n",
            "workplac 16\n",
            "qdeck 16\n",
            "tansu 16\n",
            "inkjet 16\n",
            "reformat 16\n",
            "toml 16\n",
            "lognam 16\n",
            "rmohn 15\n",
            "feldman 15\n",
            "filenam 15\n",
            "kssimon 15\n",
            "rajiev 15\n",
            "trinitron 15\n",
            "guykuo 15\n",
            "sophia 15\n",
            "ilmenau 15\n",
            "mehl 15\n",
            "abpsoft 15\n",
            "reimert 15\n",
            "hoskyn 15\n",
            "multitask 15\n",
            "ultrastor 15\n",
            "macc 15\n",
            "throughput 15\n",
            "xcreatewindow 15\n",
            "bchs 15\n",
            "autocad 14\n",
            "msen 14\n",
            "joerg 14\n",
            "petrack 14\n",
            "iicx 14\n",
            "daystar 14\n",
            "iskandar 14\n",
            "canva 14\n",
            "servi 14\n",
            "keysym 14\n",
            "bosco 14\n",
            "fitzgerald 14\n",
            "techwork 14\n",
            "kmail 14\n",
            "macx 14\n",
            "taib 14\n",
            "isolar 14\n",
            "lcii 14\n",
            "macus 14\n",
            "viewson 13\n",
            "datadesk 13\n",
            "energietechnik 13\n",
            "rgooch 13\n",
            "progman 13\n",
            "wixer 13\n",
            "jasmin 13\n",
            "actix 13\n",
            "megadr 13\n",
            "pctool 13\n",
            "xmodmap 13\n",
            "tekelec 13\n",
            "compstat 13\n",
            "toontown 13\n",
            "haas 13\n",
            "imagewrit 13\n",
            "silverlin 13\n",
            "dudek 13\n",
            "dialup 13\n",
            "bwtwo 13\n",
            "drawabl 13\n",
            "firmwar 13\n",
            "epson 13\n",
            "upgrad 287\n",
            "iri 12\n",
            "mywinobj 12\n",
            "caton 12\n",
            "diku 12\n",
            "irq 12\n",
            "paladin 12\n"
          ],
          "name": "stdout"
        }
      ]
    },
    {
      "cell_type": "code",
      "metadata": {
        "colab": {
          "base_uri": "https://localhost:8080/",
          "height": 1000
        },
        "id": "gGLKR2YukFvR",
        "outputId": "2576a790-694f-4bd6-ec4d-b457e5ddb973"
      },
      "source": [
        "import matplotlib.pyplot as plt\n",
        "%matplotlib inline\n",
        "n_topics = 8\n",
        "\n",
        "f, axs = plt.subplots(n_topics, figsize=(25,25))\n",
        "for topic_id, topic_dist in enumerate(model.word_topic_.T):\n",
        "    topic_score = sorted(topic_dist, reverse=True)\n",
        "    count_score = len(list(filter(lambda val: val > 0.8, topic_score)))\n",
        "    ax = axs[topic_id]\n",
        "    ax.plot(topic_score[0:10000])\n",
        "    ax.set_title(str(count_score) + ' - ' + f'Topic {topic_id}')\n",
        "    ax.legend([str(topic_id)], loc='upper right')\n",
        "#str(len(set(topic_id_to_coverage[topic_id]))))"
      ],
      "execution_count": null,
      "outputs": [
        {
          "output_type": "error",
          "ename": "IndexError",
          "evalue": "ignored",
          "traceback": [
            "\u001b[0;31m---------------------------------------------------------------------------\u001b[0m",
            "\u001b[0;31mIndexError\u001b[0m                                Traceback (most recent call last)",
            "\u001b[0;32m<ipython-input-35-2823be539940>\u001b[0m in \u001b[0;36m<module>\u001b[0;34m()\u001b[0m\n\u001b[1;32m      7\u001b[0m     \u001b[0mtopic_score\u001b[0m \u001b[0;34m=\u001b[0m \u001b[0msorted\u001b[0m\u001b[0;34m(\u001b[0m\u001b[0mtopic_dist\u001b[0m\u001b[0;34m,\u001b[0m \u001b[0mreverse\u001b[0m\u001b[0;34m=\u001b[0m\u001b[0;32mTrue\u001b[0m\u001b[0;34m)\u001b[0m\u001b[0;34m\u001b[0m\u001b[0;34m\u001b[0m\u001b[0m\n\u001b[1;32m      8\u001b[0m     \u001b[0mcount_score\u001b[0m \u001b[0;34m=\u001b[0m \u001b[0mlen\u001b[0m\u001b[0;34m(\u001b[0m\u001b[0mlist\u001b[0m\u001b[0;34m(\u001b[0m\u001b[0mfilter\u001b[0m\u001b[0;34m(\u001b[0m\u001b[0;32mlambda\u001b[0m \u001b[0mval\u001b[0m\u001b[0;34m:\u001b[0m \u001b[0mval\u001b[0m \u001b[0;34m>\u001b[0m \u001b[0;36m0.8\u001b[0m\u001b[0;34m,\u001b[0m \u001b[0mtopic_score\u001b[0m\u001b[0;34m)\u001b[0m\u001b[0;34m)\u001b[0m\u001b[0;34m)\u001b[0m\u001b[0;34m\u001b[0m\u001b[0;34m\u001b[0m\u001b[0m\n\u001b[0;32m----> 9\u001b[0;31m     \u001b[0max\u001b[0m \u001b[0;34m=\u001b[0m \u001b[0maxs\u001b[0m\u001b[0;34m[\u001b[0m\u001b[0mtopic_id\u001b[0m\u001b[0;34m]\u001b[0m\u001b[0;34m\u001b[0m\u001b[0;34m\u001b[0m\u001b[0m\n\u001b[0m\u001b[1;32m     10\u001b[0m     \u001b[0max\u001b[0m\u001b[0;34m.\u001b[0m\u001b[0mplot\u001b[0m\u001b[0;34m(\u001b[0m\u001b[0mtopic_score\u001b[0m\u001b[0;34m[\u001b[0m\u001b[0;36m0\u001b[0m\u001b[0;34m:\u001b[0m\u001b[0;36m10000\u001b[0m\u001b[0;34m]\u001b[0m\u001b[0;34m)\u001b[0m\u001b[0;34m\u001b[0m\u001b[0;34m\u001b[0m\u001b[0m\n\u001b[1;32m     11\u001b[0m     \u001b[0max\u001b[0m\u001b[0;34m.\u001b[0m\u001b[0mset_title\u001b[0m\u001b[0;34m(\u001b[0m\u001b[0mstr\u001b[0m\u001b[0;34m(\u001b[0m\u001b[0mcount_score\u001b[0m\u001b[0;34m)\u001b[0m \u001b[0;34m+\u001b[0m \u001b[0;34m' - '\u001b[0m \u001b[0;34m+\u001b[0m \u001b[0;34mf'Topic {topic_id}'\u001b[0m\u001b[0;34m)\u001b[0m\u001b[0;34m\u001b[0m\u001b[0;34m\u001b[0m\u001b[0m\n",
            "\u001b[0;31mIndexError\u001b[0m: index 8 is out of bounds for axis 0 with size 8"
          ]
        },
        {
          "output_type": "display_data",
          "data": {
            "image/png": "[encoded data removed]",
            "text/plain": [
              "<Figure size 1800x1800 with 8 Axes>"
            ]
          },
          "metadata": {
            "tags": [],
            "needs_background": "light"
          }
        }
      ]
    },
    {
      "cell_type": "code",
      "metadata": {
        "colab": {
          "base_uri": "https://localhost:8080/",
          "height": 281
        },
        "id": "NtMILbu_kWnP",
        "outputId": "36be4bb1-d1aa-487b-e223-f24fcbc357e9"
      },
      "source": [
        "for key, value in word2id.items():\n",
        "    if key =='jesus':\n",
        "        plt.bar([i for i in range(len(model.word_topic_[0]))],model.word_topic_[value])\n",
        "        plt.rcParams[\"figure.figsize\"] = [15,6]\n",
        "        plt.xticks([i for i in range(len(model.word_topic_[0]))],[f'Topic {i}' for i in range(len(model.word_topic_[0]))])\n",
        "        plt.title(key)"
      ],
      "execution_count": null,
      "outputs": [
        {
          "output_type": "display_data",
          "data": {
            "image/png": "[encoded data removed]",
            "text/plain": [
              "<Figure size 432x288 with 1 Axes>"
            ]
          },
          "metadata": {
            "tags": [],
            "needs_background": "light"
          }
        }
      ]
    },
    {
      "cell_type": "code",
      "metadata": {
        "colab": {
          "base_uri": "https://localhost:8080/",
          "height": 390
        },
        "id": "Q2gm3pSFkbEB",
        "outputId": "ff231bae-5176-47ed-c6b7-af8e515f6545"
      },
      "source": [
        "for key, value in word2id.items():\n",
        "    if key =='nasa':\n",
        "        plt.bar([i for i in range(len(model.word_topic_[0]))],model.word_topic_[value])\n",
        "        plt.rcParams[\"figure.figsize\"] = [15,6]\n",
        "        plt.xticks([i for i in range(len(model.word_topic_[0]))],[f'Topic {i}' for i in range(len(model.word_topic_[0]))])\n",
        "        plt.title(key)"
      ],
      "execution_count": null,
      "outputs": [
        {
          "output_type": "display_data",
          "data": {
            "image/png": "[encoded data removed]",
            "text/plain": [
              "<Figure size 1080x432 with 1 Axes>"
            ]
          },
          "metadata": {
            "tags": [],
            "needs_background": "light"
          }
        }
      ]
    },
    {
      "cell_type": "code",
      "metadata": {
        "colab": {
          "base_uri": "https://localhost:8080/",
          "height": 390
        },
        "id": "BEnZcu6PkjLb",
        "outputId": "a829e2ba-885b-4db1-acc1-caa73f68be75"
      },
      "source": [
        "for key, value in word2id.items():\n",
        "    if key =='food':\n",
        "        plt.bar([i for i in range(len(model.word_topic_[0]))],model.word_topic_[value])\n",
        "        plt.rcParams[\"figure.figsize\"] = [15,6]\n",
        "        plt.xticks([i for i in range(len(model.word_topic_[0]))],[f'Topic {i}' for i in range(len(model.word_topic_[0]))])\n",
        "        plt.title(key)"
      ],
      "execution_count": null,
      "outputs": [
        {
          "output_type": "display_data",
          "data": {
            "image/png": "[encoded data removed]",
            "text/plain": [
              "<Figure size 1080x432 with 1 Axes>"
            ]
          },
          "metadata": {
            "tags": [],
            "needs_background": "light"
          }
        }
      ]
    },
    {
      "cell_type": "code",
      "metadata": {
        "id": "PDvNCN9Gktkv"
      },
      "source": [
        "seed_dict = {'Graphics Cards' : 0, 'Space' : 1, 'Religion' : 2 , 'Politics' : 3, 'Gun Violence' : 4,\n",
        "             'Technology' : 5, 'Sports' : 6, 'Encryption' : 7 }"
      ],
      "execution_count": null,
      "outputs": []
    },
    {
      "cell_type": "code",
      "metadata": {
        "id": "FDR3g1mCk0UK"
      },
      "source": [
        "seed_topics = {}"
      ],
      "execution_count": null,
      "outputs": []
    },
    {
      "cell_type": "code",
      "metadata": {
        "id": "4TJPzI_zk1sc"
      },
      "source": [
        "seed_topics.update({\n",
        "    word2id[\"drive\"] : seed_dict[\"Graphics Cards\"], word2id[\"sale\"] : seed_dict[\"Graphics Cards\"], \n",
        "    word2id[\"driver\"] : seed_dict[\"Graphics Cards\"], word2id[\"wire\"] : seed_dict[\"Graphics Cards\"], \n",
        "    word2id[\"card\"] : seed_dict[\"Graphics Cards\"], word2id[\"graphic\"] : seed_dict[\"Graphics Cards\"], \n",
        "    word2id[\"price\"] : seed_dict[\"Graphics Cards\"], word2id[\"appl\"] : seed_dict[\"Graphics Cards\"],\n",
        "    word2id[\"softwar\"] : seed_dict[\"Graphics Cards\"], word2id[\"monitor\"] : seed_dict[\"Graphics Cards\"]\n",
        "})"
      ],
      "execution_count": null,
      "outputs": []
    },
    {
      "cell_type": "code",
      "metadata": {
        "id": "GRYNJ4zWk_5C"
      },
      "source": [
        "# Topic 2: Possibly Space\n",
        "seed_topics.update({\n",
        "    word2id[\"space\"] : seed_dict[\"Space\"], word2id[\"nasa\"] : seed_dict[\"Space\"], \n",
        "    word2id[\"drive\"] : seed_dict[\"Space\"], word2id[\"scsi\"] : seed_dict[\"Space\"], \n",
        "    word2id[\"orbit\"] : seed_dict[\"Space\"], word2id[\"launch\"] : seed_dict[\"Space\"],\n",
        "    word2id[\"data\"] : seed_dict[\"Space\"], word2id[\"control\"] : seed_dict[\"Space\"], \n",
        "    word2id[\"earth\"] : seed_dict[\"Space\"],word2id[\"moon\"] : seed_dict[\"Space\"]\n",
        "})"
      ],
      "execution_count": null,
      "outputs": []
    },
    {
      "cell_type": "code",
      "metadata": {
        "id": "IWahs3OblCPk"
      },
      "source": [
        "# Topic 6: Possibly Sports\n",
        "seed_topics.update({\n",
        "    word2id[\"game\"] : seed_dict[\"Sports\"], word2id[\"team\"] : seed_dict[\"Sports\"], \n",
        "    word2id[\"play\"] : seed_dict[\"Sports\"], word2id[\"player\"] : seed_dict[\"Sports\"], \n",
        "    word2id[\"hockey\"] : seed_dict[\"Sports\"], word2id[\"season\"] : seed_dict[\"Sports\"], \n",
        "    word2id[\"pitt\"] : seed_dict[\"Sports\"], word2id[\"score\"] : seed_dict[\"Sports\"], \n",
        "    word2id[\"leagu\"] : seed_dict[\"Sports\"], word2id[\"pittsburgh\"] : seed_dict[\"Sports\"]\n",
        "})"
      ],
      "execution_count": null,
      "outputs": []
    },
    {
      "cell_type": "code",
      "metadata": {
        "id": "jFthDkM7lElo"
      },
      "source": [
        "# Topic 4: Possibly Politics\n",
        "seed_topics.update({\n",
        "    word2id[\"armenian\"] : seed_dict[\"Politics\"], word2id[\"public\"] : seed_dict[\"Politics\"], \n",
        "    word2id[\"govern\"] : seed_dict[\"Politics\"], word2id[\"turkish\"] : seed_dict[\"Politics\"], \n",
        "    word2id[\"columbia\"] : seed_dict[\"Politics\"], word2id[\"nation\"] : seed_dict[\"Politics\"], \n",
        "    word2id[\"presid\"] : seed_dict[\"Politics\"], word2id[\"turk\"] : seed_dict[\"Politics\"], \n",
        "    word2id[\"american\"] : seed_dict[\"Politics\"], word2id[\"group\"] : seed_dict[\"Politics\"]\n",
        "})"
      ],
      "execution_count": null,
      "outputs": []
    },
    {
      "cell_type": "code",
      "metadata": {
        "id": "HjsFSZqBlKLS"
      },
      "source": [
        "# Topic 5: Possibly Gun Violence\n",
        "seed_topics.update({\n",
        "    word2id[\"kill\"] : seed_dict[\"Gun Violence\"], word2id[\"bike\"] : seed_dict[\"Gun Violence\"], \n",
        "    word2id[\"live\"] : seed_dict[\"Gun Violence\"], word2id[\"leav\"] : seed_dict[\"Gun Violence\"], \n",
        "    word2id[\"weapon\"] : seed_dict[\"Gun Violence\"], word2id[\"happen\"] : seed_dict[\"Gun Violence\"], \n",
        "    word2id[\"gun\"] : seed_dict[\"Gun Violence\"], word2id[\"crime\"] : seed_dict[\"Gun Violence\"],\n",
        "    word2id[\"car\"] : seed_dict[\"Gun Violence\"], word2id[\"hand\"] : seed_dict[\"Gun Violence\"]\n",
        "})"
      ],
      "execution_count": null,
      "outputs": []
    },
    {
      "cell_type": "code",
      "metadata": {
        "colab": {
          "base_uri": "https://localhost:8080/"
        },
        "id": "gZhyHKU-lLt9",
        "outputId": "d40ec0b9-a343-446e-95e1-54f9c7c3274f"
      },
      "source": [
        "model = lda(n_topics= 8, n_iter=1000, random_state=1, refresh=50)\n",
        "model.fit(X, seed_topics = seed_topics, seed_confidence = 0.3)\n",
        "topic_word = model.topic_word_\n",
        "n_top_words = 25\n",
        "for i, topic_dist in enumerate(topic_word):\n",
        "    topic_words = np.array(vocab)[np.argsort(topic_dist)][:-(n_top_words + 1):-1]\n",
        "    print('\\n')\n",
        "    print('Topic {} : {}'.format(i, ', '.join(topic_words)))"
      ],
      "execution_count": null,
      "outputs": [
        {
          "output_type": "stream",
          "text": [
            "INFO:guidedlda:n_documents: 10063\n",
            "INFO:guidedlda:vocab_size: 42185\n",
            "INFO:guidedlda:n_words: 959761\n",
            "INFO:guidedlda:n_topics: 8\n",
            "INFO:guidedlda:n_iter: 1000\n",
            "INFO:guidedlda:<0> log likelihood: -10856990\n",
            "INFO:guidedlda:<50> log likelihood: -8296052\n",
            "INFO:guidedlda:<100> log likelihood: -8193131\n",
            "INFO:guidedlda:<150> log likelihood: -8151373\n",
            "INFO:guidedlda:<200> log likelihood: -8130919\n",
            "INFO:guidedlda:<250> log likelihood: -8118629\n",
            "INFO:guidedlda:<300> log likelihood: -8112180\n",
            "INFO:guidedlda:<350> log likelihood: -8106177\n",
            "INFO:guidedlda:<400> log likelihood: -8104167\n",
            "INFO:guidedlda:<450> log likelihood: -8102096\n",
            "INFO:guidedlda:<500> log likelihood: -8099537\n",
            "INFO:guidedlda:<550> log likelihood: -8095926\n",
            "INFO:guidedlda:<600> log likelihood: -8096258\n",
            "INFO:guidedlda:<650> log likelihood: -8094382\n",
            "INFO:guidedlda:<700> log likelihood: -8092926\n",
            "INFO:guidedlda:<750> log likelihood: -8091390\n",
            "INFO:guidedlda:<800> log likelihood: -8091317\n",
            "INFO:guidedlda:<850> log likelihood: -8089718\n",
            "INFO:guidedlda:<900> log likelihood: -8090549\n",
            "INFO:guidedlda:<950> log likelihood: -8091097\n",
            "INFO:guidedlda:<999> log likelihood: -8089905\n"
          ],
          "name": "stderr"
        },
        {
          "output_type": "stream",
          "text": [
            "\n",
            "\n",
            "Topic 0 : line, subject, organ, window, post, univers, write, drive, host, nntp, problem, card, file, know, thank, work, like, articl, need, help, scsi, disk, program, mail, distribut\n",
            "\n",
            "\n",
            "Topic 1 : line, subject, organ, nasa, write, space, articl, post, like, nntp, host, univers, work, know, power, need, time, look, distribut, access, year, think, toronto, thing, high\n",
            "\n",
            "\n",
            "Topic 2 : line, subject, organ, write, window, chip, post, encrypt, clipper, host, nntp, articl, like, know, secur, key, phone, need, code, work, mail, repli, program, motif, inform\n",
            "\n",
            "\n",
            "Topic 3 : write, peopl, subject, organ, articl, line, govern, right, state, israel, think, post, isra, say, univers, like, clinton, armenian, american, jew, kill, arab, know, nation, time\n",
            "\n",
            "\n",
            "Topic 4 : line, subject, write, organ, articl, like, post, think, host, nntp, bike, know, good, univers, go, time, peopl, right, thing, look, distribut, drive, state, want, engin\n",
            "\n",
            "\n",
            "Topic 5 : organ, articl, line, subject, write, know, post, like, pitt, univers, peopl, bank, food, think, host, gordon, repli, nntp, time, good, medic, caus, doctor, cramer, say\n",
            "\n",
            "\n",
            "Topic 6 : game, line, organ, team, subject, write, year, player, play, articl, post, univers, think, like, host, nntp, hockey, time, good, season, basebal, score, know, leagu, go\n",
            "\n",
            "\n",
            "Topic 7 : write, subject, christian, line, peopl, organ, think, believ, know, articl, say, jesus, post, univers, like, moral, mean, come, thing, time, exist, bibl, word, question, religion\n"
          ],
          "name": "stdout"
        }
      ]
    },
    {
      "cell_type": "code",
      "metadata": {
        "colab": {
          "base_uri": "https://localhost:8080/"
        },
        "id": "26Y1AoBflO_R",
        "outputId": "1240857c-0c4b-4af3-c3a9-08fa41ab1007"
      },
      "source": [
        "\n",
        "num = 100\n",
        "unseen_document = newsgroups_test.data[num]\n",
        "print(unseen_document)"
      ],
      "execution_count": null,
      "outputs": [
        {
          "output_type": "stream",
          "text": [
            "Subject: help\n",
            "From: C..Doelle@p26.f3333.n106.z1.fidonet.org (C. Doelle)\n",
            "Lines: 13\n",
            "\n",
            "Hello All!\n",
            "\n",
            "    It is my understanding that all True-Type fonts in Windows are loaded in\n",
            "prior to starting Windows - this makes getting into Windows quite slow if you\n",
            "have hundreds of them as I do.  First off, am I correct in this thinking -\n",
            "secondly, if that is the case - can you get Windows to ignore them on boot and\n",
            "maybe make something like a PIF file to load them only when you enter the\n",
            "applications that need fonts?  Any ideas?\n",
            "\n",
            "\n",
            "Chris\n",
            "\n",
            " * Origin: chris.doelle.@f3333.n106.z1.fidonet.org (1:106/3333.26)\n",
            "\n"
          ],
          "name": "stdout"
        }
      ]
    },
    {
      "cell_type": "code",
      "metadata": {
        "colab": {
          "base_uri": "https://localhost:8080/",
          "height": 214
        },
        "id": "pqRsYlCBlT0o",
        "outputId": "c19656ae-c4ab-449e-f8d8-801e42f74b3c"
      },
      "source": [
        "bow_vector = dictionary.doc2bow(preprocess(unseen_document))\n",
        "\n",
        "for index, score in sorted(lda_model[bow_vector], key=lambda tup: -1*tup[1]):\n",
        "    print(\"Score: {}\\t Topic: {}\".format(score, lda_model.print_topic(index, 5)))"
      ],
      "execution_count": null,
      "outputs": [
        {
          "output_type": "error",
          "ename": "NameError",
          "evalue": "ignored",
          "traceback": [
            "\u001b[0;31m---------------------------------------------------------------------------\u001b[0m",
            "\u001b[0;31mNameError\u001b[0m                                 Traceback (most recent call last)",
            "\u001b[0;32m<ipython-input-48-8a4e5e3e9615>\u001b[0m in \u001b[0;36m<module>\u001b[0;34m()\u001b[0m\n\u001b[0;32m----> 1\u001b[0;31m \u001b[0mbow_vector\u001b[0m \u001b[0;34m=\u001b[0m \u001b[0mdictionary\u001b[0m\u001b[0;34m.\u001b[0m\u001b[0mdoc2bow\u001b[0m\u001b[0;34m(\u001b[0m\u001b[0mpreprocess\u001b[0m\u001b[0;34m(\u001b[0m\u001b[0munseen_document\u001b[0m\u001b[0;34m)\u001b[0m\u001b[0;34m)\u001b[0m\u001b[0;34m\u001b[0m\u001b[0;34m\u001b[0m\u001b[0m\n\u001b[0m\u001b[1;32m      2\u001b[0m \u001b[0;34m\u001b[0m\u001b[0m\n\u001b[1;32m      3\u001b[0m \u001b[0;32mfor\u001b[0m \u001b[0mindex\u001b[0m\u001b[0;34m,\u001b[0m \u001b[0mscore\u001b[0m \u001b[0;32min\u001b[0m \u001b[0msorted\u001b[0m\u001b[0;34m(\u001b[0m\u001b[0mlda_model\u001b[0m\u001b[0;34m[\u001b[0m\u001b[0mbow_vector\u001b[0m\u001b[0;34m]\u001b[0m\u001b[0;34m,\u001b[0m \u001b[0mkey\u001b[0m\u001b[0;34m=\u001b[0m\u001b[0;32mlambda\u001b[0m \u001b[0mtup\u001b[0m\u001b[0;34m:\u001b[0m \u001b[0;34m-\u001b[0m\u001b[0;36m1\u001b[0m\u001b[0;34m*\u001b[0m\u001b[0mtup\u001b[0m\u001b[0;34m[\u001b[0m\u001b[0;36m1\u001b[0m\u001b[0;34m]\u001b[0m\u001b[0;34m)\u001b[0m\u001b[0;34m:\u001b[0m\u001b[0;34m\u001b[0m\u001b[0;34m\u001b[0m\u001b[0m\n\u001b[1;32m      4\u001b[0m     \u001b[0mprint\u001b[0m\u001b[0;34m(\u001b[0m\u001b[0;34m\"Score: {}\\t Topic: {}\"\u001b[0m\u001b[0;34m.\u001b[0m\u001b[0mformat\u001b[0m\u001b[0;34m(\u001b[0m\u001b[0mscore\u001b[0m\u001b[0;34m,\u001b[0m \u001b[0mlda_model\u001b[0m\u001b[0;34m.\u001b[0m\u001b[0mprint_topic\u001b[0m\u001b[0;34m(\u001b[0m\u001b[0mindex\u001b[0m\u001b[0;34m,\u001b[0m \u001b[0;36m5\u001b[0m\u001b[0;34m)\u001b[0m\u001b[0;34m)\u001b[0m\u001b[0;34m)\u001b[0m\u001b[0;34m\u001b[0m\u001b[0;34m\u001b[0m\u001b[0m\n",
            "\u001b[0;31mNameError\u001b[0m: name 'dictionary' is not defined"
          ]
        }
      ]
    },
    {
      "cell_type": "code",
      "metadata": {
        "id": "EDaf2jyDlcBR"
      },
      "source": [
        "print(newsgroups_test.target[num])"
      ],
      "execution_count": null,
      "outputs": []
    },
    {
      "cell_type": "code",
      "metadata": {
        "id": "sNrwJfqJleFk"
      },
      "source": [
        ""
      ],
      "execution_count": null,
      "outputs": []
    }
  ]
}